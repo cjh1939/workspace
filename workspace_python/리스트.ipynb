{
 "cells": [
  {
   "cell_type": "markdown",
   "metadata": {},
   "source": []
  },
  {
   "cell_type": "markdown",
   "metadata": {},
   "source": [
    "#### 1. 리스트(list)\n"
   ]
  },
  {
   "cell_type": "code",
   "execution_count": null,
   "metadata": {},
   "outputs": [],
   "source": [
    "#리스트 생성(자바스크립트의 배열)\n",
    "#주의 ! - 변수명을 절대로 list로 선언하지 않을것 ! \n",
    "lsit1 = [] # 빈리스트 생성\n",
    "list2 = [1, 2, 3] \n",
    "list3 = [1, 2, 'python',[7,8]] #리스트에는 다른 자료형도 저장 가능"
   ]
  },
  {
   "cell_type": "code",
   "execution_count": 41,
   "metadata": {},
   "outputs": [
    {
     "name": "stdout",
     "output_type": "stream",
     "text": [
      "[1, 2, 3]\n",
      "2\n"
     ]
    },
    {
     "name": "stderr",
     "output_type": "stream",
     "text": [
      "<>:4: SyntaxWarning: 'int' object is not subscriptable; perhaps you missed a comma?\n",
      "<>:4: SyntaxWarning: 'int' object is not subscriptable; perhaps you missed a comma?\n",
      "C:\\Users\\GRS\\AppData\\Local\\Temp\\ipykernel_9200\\538766893.py:4: SyntaxWarning: 'int' object is not subscriptable; perhaps you missed a comma?\n",
      "  print(list3[3[1]])\n"
     ]
    },
    {
     "ename": "TypeError",
     "evalue": "'int' object is not subscriptable",
     "output_type": "error",
     "traceback": [
      "\u001b[1;31m---------------------------------------------------------------------------\u001b[0m",
      "\u001b[1;31mTypeError\u001b[0m                                 Traceback (most recent call last)",
      "Cell \u001b[1;32mIn[41], line 4\u001b[0m\n\u001b[0;32m      2\u001b[0m \u001b[38;5;28mprint\u001b[39m(list2)\n\u001b[0;32m      3\u001b[0m \u001b[38;5;28mprint\u001b[39m(list3[\u001b[38;5;241m1\u001b[39m])\n\u001b[1;32m----> 4\u001b[0m \u001b[38;5;28mprint\u001b[39m(list3[\u001b[38;5;241;43m3\u001b[39;49m\u001b[43m[\u001b[49m\u001b[38;5;241;43m1\u001b[39;49m\u001b[43m]\u001b[49m])\n",
      "\u001b[1;31mTypeError\u001b[0m: 'int' object is not subscriptable"
     ]
    }
   ],
   "source": [
    "#리스트의 데이터 출력\n",
    "print(list2)\n",
    "print(list3[1])\n",
    "print(list3[3[1]])\n",
    "\n"
   ]
  },
  {
   "cell_type": "code",
   "execution_count": null,
   "metadata": {},
   "outputs": [
    {
     "name": "stdout",
     "output_type": "stream",
     "text": [
      "[1, 2, 3]\n",
      "[1, 2, 3, 5, 7]\n",
      "[1, 10, 2, 3, 5, 7]\n"
     ]
    }
   ],
   "source": [
    "#리스트에 테이터 추가하기 \n",
    "#1. append()함수 사용 - 리스트의 마지막 요소에 데이터를 추가\n",
    "list1 =[1,2,3]\n",
    "print(list1)\n",
    "\n",
    "list1.append(5)\n",
    "list1.append(7)\n",
    "print(list1)\n",
    "\n",
    "#2. insert()함수 사용 - 지정한 위치에 데이터를 추가\n",
    "list1.insert(1,10) # 첫번째 인자 : 추가할 index , 두번째 인자 : 추가할 데이터 \n",
    "print(list1) "
   ]
  },
  {
   "cell_type": "code",
   "execution_count": 42,
   "metadata": {},
   "outputs": [
    {
     "name": "stdout",
     "output_type": "stream",
     "text": [
      "[1, 2, 4, 5, 3]\n"
     ]
    }
   ],
   "source": [
    "#리스트 데이터의 삭제 \n",
    "list1 = [1,2,3,4,5,3]\n",
    "\n",
    "# 추천방식 ,del 명령어 사용 - 리스트의 index번호로 데이터를 삭제 \n",
    "del list1[2]\n",
    "\n",
    "#del 명령어 사영시 주의사항 -아래처럼 사용하면 변수 자체가 삭제됨 \n",
    "#del list1 \n",
    "\n",
    "#remove (삭제할데이터)\n",
    "#list1.remove(3)\n",
    "print(list1)"
   ]
  },
  {
   "cell_type": "code",
   "execution_count": 44,
   "metadata": {},
   "outputs": [
    {
     "name": "stdout",
     "output_type": "stream",
     "text": [
      "[1, [5], 3]\n",
      "[1, [5], 'hello']\n"
     ]
    }
   ],
   "source": [
    "#리스트 데이터의 수정 \n",
    "list1 =[1,2,3]\n",
    "list1[1]=[5]\n",
    "\n",
    "print(list1)\n",
    "\n",
    "list1[2] ='hello'\n",
    "print(list1)"
   ]
  },
  {
   "cell_type": "code",
   "execution_count": 46,
   "metadata": {},
   "outputs": [
    {
     "name": "stdout",
     "output_type": "stream",
     "text": [
      "[1, 2, 3, 4, 5, 6]\n",
      "[1, 2, 3, 1, 2, 3, 1, 2, 3]\n"
     ]
    }
   ],
   "source": [
    "#리스트를 나열\n",
    "list1 = [1,2,3] + [4,5,6]\n",
    "print(list1)\n",
    "\n",
    "list2 = [1,2,3] * 3\n",
    "print(list2)"
   ]
  },
  {
   "cell_type": "code",
   "execution_count": 50,
   "metadata": {},
   "outputs": [
    {
     "name": "stdout",
     "output_type": "stream",
     "text": [
      "[2, 3, 4]\n",
      "[2, 3, 4]\n",
      "[3, 4, 5]\n",
      "[1, 2, 3]\n",
      "[1, 2, 3, 4, 5]\n",
      "[3, 4]\n"
     ]
    }
   ],
   "source": [
    "# 리스트의 슬라이싱 연산 - 데이터의 일부분을 추출하는 기능\n",
    "list1 = [1,2,3,4,5]\n",
    "print(list1[1:4])# [시작인덱스 : 마지막인텍스 (포함x)]\n",
    "list2 = list1[1:4]\n",
    "print(list2)\n",
    "\n",
    "list3 = [1,2,3,4,5]\n",
    "print(list3[2:]) # 2번째 부터 끝까지 \n",
    "print(list3[ :3]) # 처음부터 세번째 까지\n",
    "print(list3[ : ]) # 처음부터 끝까지\n",
    "print(list3[2: -1])"
   ]
  },
  {
   "cell_type": "code",
   "execution_count": 64,
   "metadata": {},
   "outputs": [
    {
     "name": "stdout",
     "output_type": "stream",
     "text": [
      "대\n",
      "민국 울산\n",
      "052-1111-2222\n",
      "052-2222-3333\n",
      "052-3333-4444\n"
     ]
    }
   ],
   "source": [
    "# 파이썬은 문자열도 리스트로 취급 \n",
    "addr = '대한민국 울산시 남구 '\n",
    "print(addr[0]) \n",
    "print(addr[2:7])\n",
    "\n",
    "# 마이너스 인덱스의 사용 예시\n",
    "addrList = [\n",
    "  '스타벅스 삼산 지점 052-1111-2222',\n",
    "  '스타벅스 신정동 2호점 052-2222-3333',\n",
    "  '스타벅스 울산남구점 052-3333-4444'\n",
    "]\n",
    "\n",
    "#스벅 매장정보에서 연락처만 추출\n",
    "print(addrList[0][-13:])\n",
    "print(addrList[1][-13:])\n",
    "print(addrList[2][-13:])"
   ]
  },
  {
   "cell_type": "code",
   "execution_count": 67,
   "metadata": {},
   "outputs": [
    {
     "name": "stdout",
     "output_type": "stream",
     "text": [
      "[1, 4, 5]\n"
     ]
    }
   ],
   "source": [
    "# 슬라이싱을 사용한 리스트의 데이터 제거 \n",
    "list1 =[1,2,3,4,5]\n",
    "\n",
    "del list1[1:3]\n",
    "\n",
    "print(list1)"
   ]
  },
  {
   "cell_type": "code",
   "execution_count": 69,
   "metadata": {},
   "outputs": [
    {
     "name": "stdout",
     "output_type": "stream",
     "text": [
      "[1, 7, 8, 4, 5]\n",
      "[1, 1, 2, 5]\n"
     ]
    }
   ],
   "source": [
    "# 슬라시싱을 이용한 데이터 수정\n",
    "list1 = [1,2,3,4,5]\n",
    "\n",
    "list1[1:3] = [7,8]\n",
    "print(list1)\n",
    "\n",
    "list1[1:4] = [1,2]\n",
    "print(list1)"
   ]
  },
  {
   "cell_type": "code",
   "execution_count": 72,
   "metadata": {},
   "outputs": [
    {
     "name": "stdout",
     "output_type": "stream",
     "text": [
      "python\n"
     ]
    }
   ],
   "source": [
    "# 리스트의 마지막 데이터찿기 \n",
    "list2 =[3,8,'java',10,'python']\n",
    "\n",
    "print(list2[-1])"
   ]
  },
  {
   "cell_type": "code",
   "execution_count": null,
   "metadata": {},
   "outputs": [],
   "source": []
  },
  {
   "cell_type": "code",
   "execution_count": null,
   "metadata": {},
   "outputs": [],
   "source": []
  },
  {
   "cell_type": "code",
   "execution_count": null,
   "metadata": {},
   "outputs": [],
   "source": []
  },
  {
   "cell_type": "code",
   "execution_count": null,
   "metadata": {},
   "outputs": [],
   "source": []
  },
  {
   "cell_type": "code",
   "execution_count": null,
   "metadata": {},
   "outputs": [],
   "source": []
  },
  {
   "cell_type": "code",
   "execution_count": null,
   "metadata": {},
   "outputs": [],
   "source": []
  },
  {
   "cell_type": "code",
   "execution_count": null,
   "metadata": {},
   "outputs": [],
   "source": []
  },
  {
   "cell_type": "code",
   "execution_count": null,
   "metadata": {},
   "outputs": [],
   "source": []
  },
  {
   "cell_type": "code",
   "execution_count": null,
   "metadata": {},
   "outputs": [],
   "source": []
  },
  {
   "cell_type": "code",
   "execution_count": null,
   "metadata": {},
   "outputs": [],
   "source": []
  },
  {
   "cell_type": "code",
   "execution_count": null,
   "metadata": {},
   "outputs": [],
   "source": []
  },
  {
   "cell_type": "code",
   "execution_count": null,
   "metadata": {},
   "outputs": [],
   "source": []
  },
  {
   "cell_type": "code",
   "execution_count": null,
   "metadata": {},
   "outputs": [],
   "source": []
  },
  {
   "cell_type": "code",
   "execution_count": null,
   "metadata": {},
   "outputs": [],
   "source": []
  },
  {
   "cell_type": "code",
   "execution_count": null,
   "metadata": {},
   "outputs": [],
   "source": []
  },
  {
   "cell_type": "code",
   "execution_count": null,
   "metadata": {},
   "outputs": [],
   "source": []
  },
  {
   "cell_type": "code",
   "execution_count": null,
   "metadata": {},
   "outputs": [],
   "source": []
  },
  {
   "cell_type": "code",
   "execution_count": null,
   "metadata": {},
   "outputs": [],
   "source": []
  },
  {
   "cell_type": "code",
   "execution_count": null,
   "metadata": {},
   "outputs": [],
   "source": []
  },
  {
   "cell_type": "code",
   "execution_count": null,
   "metadata": {},
   "outputs": [],
   "source": []
  },
  {
   "cell_type": "code",
   "execution_count": null,
   "metadata": {},
   "outputs": [],
   "source": []
  },
  {
   "cell_type": "code",
   "execution_count": null,
   "metadata": {},
   "outputs": [],
   "source": []
  },
  {
   "cell_type": "code",
   "execution_count": null,
   "metadata": {},
   "outputs": [],
   "source": []
  },
  {
   "cell_type": "code",
   "execution_count": null,
   "metadata": {},
   "outputs": [],
   "source": []
  },
  {
   "cell_type": "code",
   "execution_count": null,
   "metadata": {},
   "outputs": [],
   "source": []
  },
  {
   "cell_type": "code",
   "execution_count": null,
   "metadata": {},
   "outputs": [],
   "source": []
  }
 ],
 "metadata": {
  "kernelspec": {
   "display_name": "Python 3",
   "language": "python",
   "name": "python3"
  },
  "language_info": {
   "codemirror_mode": {
    "name": "ipython",
    "version": 3
   },
   "file_extension": ".py",
   "mimetype": "text/x-python",
   "name": "python",
   "nbconvert_exporter": "python",
   "pygments_lexer": "ipython3",
   "version": "3.13.2"
  }
 },
 "nbformat": 4,
 "nbformat_minor": 2
}
