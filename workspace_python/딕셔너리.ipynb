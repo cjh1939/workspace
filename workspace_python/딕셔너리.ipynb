{
 "cells": [
  {
   "cell_type": "code",
   "execution_count": null,
   "metadata": {},
   "outputs": [],
   "source": [
    "# 딕셔너리 (dictionary)\n",
    "# 다수의 데이터를 key와 value의 한 쌍으로 저장하는 자료형\n"
   ]
  },
  {
   "cell_type": "code",
   "execution_count": 1,
   "metadata": {},
   "outputs": [
    {
     "name": "stdout",
     "output_type": "stream",
     "text": [
      "{'학번': 3, '이름': '이', '점수': 80}\n"
     ]
    }
   ],
   "source": [
    "# 딕셔너리 데이터를 생성\n",
    "dic1 = {} # 빈 딕셔너리 데이터 생성\n",
    "dic2 ={\n",
    "  '학번' :3,\n",
    "  '이름': '김',\n",
    "  '점수': 80,\n",
    "  '이름': '이'\n",
    "}\n",
    "\n",
    "print(dic2)"
   ]
  },
  {
   "cell_type": "code",
   "execution_count": 2,
   "metadata": {},
   "outputs": [
    {
     "name": "stdout",
     "output_type": "stream",
     "text": [
      "3\n"
     ]
    }
   ],
   "source": [
    "# 딕셔너리 데이터 읽기\n",
    "print(dic2['학번'])"
   ]
  },
  {
   "cell_type": "code",
   "execution_count": null,
   "metadata": {},
   "outputs": [
    {
     "name": "stdout",
     "output_type": "stream",
     "text": [
      "{'modelName': 's20', 'price': 10000, 'color': 'red'}\n",
      "{'modelName': 's20', 'price': 5000, 'color': 'red'}\n"
     ]
    }
   ],
   "source": [
    "\n",
    "phone ={\n",
    "  'modelName': 's20',\n",
    "  'price': 10000\n",
    "}\n",
    "# 딕셔너리 데이터 추가 \n",
    "phone['color'] ='red'\n",
    "print(phone)\n",
    "\n",
    "#딕셔너리 데이터 변경\n",
    "\n",
    "phone['price'] = 5000\n",
    "\n",
    "print(phone)\n"
   ]
  },
  {
   "cell_type": "code",
   "execution_count": 6,
   "metadata": {},
   "outputs": [
    {
     "name": "stdout",
     "output_type": "stream",
     "text": [
      "{'borand': 'samsung', 'price': 1000}\n"
     ]
    }
   ],
   "source": [
    "#  딕셔너리 데이터 삭제\n",
    "\n",
    "monitor={\n",
    "  'borand': 'samsung',\n",
    "  'price': 1000,\n",
    "  'color' : 'black'\n",
    "}\n",
    "\n",
    "# 딕셔너리 데이터에서 color 값을 삭제 \n",
    "del monitor['color']\n",
    "print(monitor)"
   ]
  },
  {
   "cell_type": "code",
   "execution_count": 12,
   "metadata": {},
   "outputs": [
    {
     "name": "stdout",
     "output_type": "stream",
     "text": [
      "key=borand, value=samsung\n",
      "key=price, value=1000\n",
      "key=color, value=black\n"
     ]
    }
   ],
   "source": [
    "monitor={\n",
    "  'borand': 'samsung',\n",
    "  'price': 1000,\n",
    "  'color' : 'black'\n",
    "}\n",
    "# 딕셔너리 데이터를 반복 돌리면 key 값만 나옴 \n",
    "for i in monitor : \n",
    "  print(f'key={i}, value={monitor[i]}')\n",
    "\n"
   ]
  },
  {
   "cell_type": "code",
   "execution_count": null,
   "metadata": {},
   "outputs": [],
   "source": [
    "member = {\n",
    "  '이름': '홍길동',\n",
    "  '나이': 22,\n",
    "  '취미' : ['운동','독서','등산'],\n",
    "  '가족' : [\n",
    "    {\n",
    "      '관계' : '아빠',\n",
    "      '이름' : '홍아빠'        \n",
    "    },\n",
    "    {\n",
    "      '관계' : '엄마',\n",
    "      '이름' : '홍엄마'\n",
    "    }\n",
    "    ]\n",
    "\n",
    "\n",
    "}"
   ]
  },
  {
   "cell_type": "code",
   "execution_count": null,
   "metadata": {},
   "outputs": [
    {
     "ename": "TypeError",
     "evalue": "'int' object is not subscriptable",
     "output_type": "error",
     "traceback": [
      "\u001b[1;31m---------------------------------------------------------------------------\u001b[0m",
      "\u001b[1;31mTypeError\u001b[0m                                 Traceback (most recent call last)",
      "Cell \u001b[1;32mIn[47], line 2\u001b[0m\n\u001b[0;32m      1\u001b[0m \u001b[38;5;66;03m# member 딕셔너리에서 모든 취미 출력  \u001b[39;00m\n\u001b[1;32m----> 2\u001b[0m \u001b[38;5;28mprint\u001b[39m(\u001b[43mmember\u001b[49m\u001b[43m[\u001b[49m\u001b[38;5;124;43m'\u001b[39;49m\u001b[38;5;124;43m취미\u001b[39;49m\u001b[38;5;124;43m'\u001b[39;49m\u001b[43m]\u001b[49m)\n\u001b[0;32m      4\u001b[0m \u001b[38;5;66;03m# member 딕셔너리에서 모든 취미의 갯수출력 \u001b[39;00m\n\u001b[0;32m      5\u001b[0m \u001b[38;5;28mprint\u001b[39m (\u001b[38;5;28mlen\u001b[39m(member[\u001b[38;5;124m'\u001b[39m\u001b[38;5;124m취미\u001b[39m\u001b[38;5;124m'\u001b[39m]))\n",
      "\u001b[1;31mTypeError\u001b[0m: 'int' object is not subscriptable"
     ]
    }
   ],
   "source": [
    "# member 딕셔너리에서 모든 취미 출력  \n",
    "print(member['취미'])\n",
    "\n",
    "# member 딕셔너리에서 모든 취미의 갯수출력 \n",
    "print (len(member['취미']))\n",
    "\n",
    "# member 딕셔너리에서 마지막 취미 출력 \n",
    "print( member['취미'][-1])\n",
    "  \n",
    "\n",
    "# member 딕셔너리에서 아빠의 이름을 출력 \n",
    "print(member['가족'][0]['이름'])\n",
    "\n",
    "# member 딕셔너리에서 엄마의 나이추가 (나이를 50)\n",
    "member['가족'][1]['나이'] = 50\n",
    "\n",
    "print(member)"
   ]
  },
  {
   "cell_type": "code",
   "execution_count": null,
   "metadata": {},
   "outputs": [],
   "source": []
  },
  {
   "cell_type": "code",
   "execution_count": null,
   "metadata": {},
   "outputs": [],
   "source": []
  },
  {
   "cell_type": "code",
   "execution_count": null,
   "metadata": {},
   "outputs": [],
   "source": []
  }
 ],
 "metadata": {
  "kernelspec": {
   "display_name": "Python 3",
   "language": "python",
   "name": "python3"
  },
  "language_info": {
   "codemirror_mode": {
    "name": "ipython",
    "version": 3
   },
   "file_extension": ".py",
   "mimetype": "text/x-python",
   "name": "python",
   "nbconvert_exporter": "python",
   "pygments_lexer": "ipython3",
   "version": "3.13.2"
  }
 },
 "nbformat": 4,
 "nbformat_minor": 2
}
