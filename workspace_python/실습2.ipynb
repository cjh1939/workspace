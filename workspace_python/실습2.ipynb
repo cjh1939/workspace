{
 "cells": [
  {
   "cell_type": "code",
   "execution_count": 12,
   "metadata": {},
   "outputs": [
    {
     "name": "stdout",
     "output_type": "stream",
     "text": [
      "10\n"
     ]
    }
   ],
   "source": [
    "#1. 다음 리스트에서 최대값을 구하시오.\n",
    "list1 = [3, 10, 8, 7, 5]\n",
    "\n",
    "#0번째 요소를 가장 큰 값이라고 가정\n",
    "\n",
    "maxData = list1[0]\n",
    "\n",
    "for e in list1:\n",
    "  if maxData < e:\n",
    "    maxData = e\n",
    "print(maxData)    \n",
    "\n",
    "# a = max(list1)\n",
    "# print(a)\n",
    "\n"
   ]
  },
  {
   "cell_type": "code",
   "execution_count": null,
   "metadata": {},
   "outputs": [
    {
     "name": "stdout",
     "output_type": "stream",
     "text": [
      "54\n",
      "9\n",
      "45\n"
     ]
    }
   ],
   "source": [
    "#2. 다음 두 리스트에 존재하는 모든 요소의 합을 구하시오.\n",
    "list2 = [1, 3, 5]\n",
    "list3 = [10, 15, 20]\n",
    "\n",
    "\n",
    "\n",
    "sunList = list2 +list3\n",
    "\n",
    "sumData = 0\n",
    "for e in sunList:\n",
    "  sumData = sumData + e\n",
    "print(sumData)\n",
    "\n",
    "\n",
    "\n",
    "sum1 =0\n",
    "sum2= 0\n",
    "for e in list2 : \n",
    "  sum1 += e \n",
    "print(sum1)\n",
    "\n",
    "for a in list3 : \n",
    "  sum2 += a \n",
    "print(sum2)  "
   ]
  },
  {
   "cell_type": "code",
   "execution_count": 21,
   "metadata": {},
   "outputs": [
    {
     "name": "stdout",
     "output_type": "stream",
     "text": [
      "1\n",
      "5\n"
     ]
    }
   ],
   "source": [
    "#3. 입력받은 정수의 약수를 모두 출력하세요\n",
    "#ex> 입력 10 -> 1, 2, 5, 10\n",
    "num = int(input('입력'))\n",
    "\n",
    "\n",
    "for i in range (1, num+1) : \n",
    "  if num % i == 0 :\n",
    "    print(i)    \n",
    "    \n",
    "\n"
   ]
  },
  {
   "cell_type": "code",
   "execution_count": 38,
   "metadata": {},
   "outputs": [
    {
     "name": "stdout",
     "output_type": "stream",
     "text": [
      "[10, 10, 10]\n"
     ]
    }
   ],
   "source": [
    "#4. 키보드로 입력받은 세 정수 * 2한 값을 요소로 갖는 리스트를 생성하고 출력하세요.\n",
    "#ex> 입력 : 1,5,10 -> 결과 : [2, 10, 20]\n",
    "\n",
    "\n",
    "list =[]\n",
    "\n",
    "for i in range (3) :\n",
    "  num = int(input('f{i+1}번째 정수입력')) * 2\n",
    "  list.append(num)\n",
    "print(list)"
   ]
  },
  {
   "cell_type": "code",
   "execution_count": null,
   "metadata": {},
   "outputs": [
    {
     "name": "stdout",
     "output_type": "stream",
     "text": [
      "0\n"
     ]
    }
   ],
   "source": [
    "#5. 다음의 데이터에서 't' 의 갯수를 구하시오.\n",
    "#힌트 : 파이썬은 문자열도 리스트이기에 반복문을 사용할 수 있음\n",
    "data = [['brother', 'mother', 'sister']]\n",
    "\n",
    "tcnt = 0\n",
    "\n",
    "for word in data :\n",
    "  for c in word :\n",
    "    if c == 't': \n",
    "      tcnt = tcnt+1\n",
    "\n",
    "print(tcnt)      "
   ]
  }
 ],
 "metadata": {
  "kernelspec": {
   "display_name": "Python 3",
   "language": "python",
   "name": "python3"
  },
  "language_info": {
   "codemirror_mode": {
    "name": "ipython",
    "version": 3
   },
   "file_extension": ".py",
   "mimetype": "text/x-python",
   "name": "python",
   "nbconvert_exporter": "python",
   "pygments_lexer": "ipython3",
   "version": "3.13.2"
  }
 },
 "nbformat": 4,
 "nbformat_minor": 2
}
